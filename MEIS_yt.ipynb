{
  "cells": [
    {
      "cell_type": "code",
      "execution_count": 1,
      "metadata": {
        "id": "lK9V6ZuDNSh1"
      },
      "outputs": [],
      "source": [
        "import numpy as np\n",
        "import matplotlib.pyplot as plt"
      ]
    },
    {
      "cell_type": "code",
      "execution_count": 2,
      "metadata": {
        "id": "rQnV-LTKNY-H"
      },
      "outputs": [],
      "source": [
        "class GridWorld(object):\n",
        "    def __init__(self, m, e, n,cord,st_cost,stock,tr_cost,lead_time,t_cy):\n",
        "        #self.cord = np.zeros((m,e))\n",
        "        #self.graph = np.zeros((n,n))\n",
        "        t=np.zeros((m,e))\n",
        "        for i in range(m):\n",
        "          for j in range(e):\n",
        "            if cord[i][j] >= 1:\n",
        "              t[i][j]= 1\n",
        "        self.alpha = t\n",
        "\n",
        "        self.lead_time = lead_time #lead times matrix\n",
        "        self.t_cy = t_cy          # order cycle\n",
        "        #self.graph = graph         # adjacency matrix\n",
        "        self.cord = cord           # echelon matrix\n",
        "        self.st_cost = st_cost     # storage cost\n",
        "        self.stock = stock         # demand forecasted A.K.A target\n",
        "        self.tr_cost = tr_cost     # transportation cost\n",
        "\n",
        "        self.m = m\n",
        "        self.e = e\n",
        "        self.n = n\n",
        "\n",
        "        self.stateSpace = [(i+1) for i in range(n)]\n",
        "        del self.stateSpace[0]\n",
        "        self.stateSpacePlus = [(i+1) for i in range(n)]\n",
        "       # self.actionSpace = {'U': -self.m, 'D': self.m,'L': -1, 'R': 1}\n",
        "        self.possibleActions = ['N','D','I']\n",
        "        # dict with magic squares and resulting squares\n",
        "        #self.addMagicSquares(magicSquares)\n",
        "        self.agentPosition = (n)\n",
        "\n",
        "    def isTerminalState(self, state):\n",
        "        return state in self.stateSpacePlus and state not in self.stateSpace\n",
        "\n",
        "    # def addMagicSquares(self, magicSquares):\n",
        "    #     self.magicSquares = magicSquares\n",
        "    #     i = 2\n",
        "    #     for square in self.magicSquares:\n",
        "    #         x = square // self.m\n",
        "    #         y = square % self.n\n",
        "    #         self.grid[x][y] = i\n",
        "    #         i += 1\n",
        "    #         x = magicSquares[square] // self.m\n",
        "    #         y = magicSquares[square] % self.n\n",
        "    #         self.grid[x][y] = i\n",
        "    #         i += 1\n",
        "\n",
        "    def getAgentRowAndColumn(self):\n",
        "        for i in range(m):\n",
        "          for j in range(e):\n",
        "            if self.cord[i][j] == self.agentPosition:\n",
        "              return i,j\n",
        "\n",
        "    def setState(self, state):\n",
        "        # x, y = self.getAgentRowAndColumn()\n",
        "        # self.grid[x][y] = 0\n",
        "        self.agentPosition = state\n",
        "        # x, y = self.getAgentRowAndColumn()\n",
        "        # self.grid[x][y] = 1\n",
        "\n",
        "    # def offGridMove(self, newState, oldState):\n",
        "    #     # if we move into a row not in the grid\n",
        "    #     if newState not in self.stateSpacePlus:\n",
        "    #         return True\n",
        "    #     # if we're trying to wrap around to next row\n",
        "    #     elif oldState % self.m == 0 and newState  % self.m == self.m - 1:\n",
        "    #         return True\n",
        "    #     elif oldState % self.m == self.m - 1 and newState % self.m == 0:\n",
        "    #         return True\n",
        "    #     else:\n",
        "    #         return False\n",
        "    # def cords(self , grid):\n",
        "    #   for i in range(m):\n",
        "    #     for j in range(e):\n",
        "    #       if grid[i][j] == self.agentPosition:\n",
        "    #         return i,j\n",
        "\n",
        "    def update(self,action,X,Y):\n",
        "      if(action == 'I'):\n",
        "        self.alpha[X][Y]= np.random.uniform( self.alpha[X][Y] , 1)\n",
        "      elif(action == 'D'):\n",
        "        self.alpha[X][Y]= np.random.uniform( 0 , self.alpha[X][Y])\n",
        "      else:\n",
        "        self.alpha[X][Y]= self.alpha[X][Y]\n",
        "\n",
        "    def reward_compute(self,X,Y):\n",
        "      import sys\n",
        "      max_int = sys.maxsize\n",
        "      t1 = self.st_cost[X][Y]*(self.stock[X][Y] * self.alpha[X][Y])*self.t_cy\n",
        "      #a1 = 1 - self.alpha[X][Y]\n",
        "      t2 = self.tr_cost[X][Y]*((1 - self.alpha[X][Y])*self.stock[X][Y])\n",
        "      t3 = self.st_cost[X][Y]*((1 - self.alpha[X][Y])*self.stock[X][Y])*(self.t_cy - self.lead_time[X][Y])\n",
        "      result = 100000000 - (t1+t2+t3)\n",
        "      return result\n",
        "\n",
        "    def step(self, action):\n",
        "        agentX, agentY = self.getAgentRowAndColumn()\n",
        "        #update values\n",
        "        resultingState = self.agentPosition - 1\n",
        "\n",
        "       # i = cords(grid)\n",
        "        self.update(action , agentX,agentY)\n",
        "\n",
        "\n",
        "\n",
        "\n",
        "        reward = self.reward_compute(agentX,agentY)\n",
        "        # if resultingState in self.magicSquares.keys():\n",
        "        #     resultingState = magicSquares[resultingState]\n",
        "\n",
        "        #reward = -1 if not self.isTerminalState(resultingState) else 0\n",
        "        if not self.isTerminalState(resultingState):\n",
        "            self.setState(resultingState)\n",
        "            return resultingState, reward, \\\n",
        "                   self.isTerminalState(resultingState), None\n",
        "        else:\n",
        "            return self.agentPosition, reward, \\\n",
        "                   self.isTerminalState(resultingState), None\n",
        "\n",
        "\n",
        "\n",
        "    def reset(self):\n",
        "        self.agentPosition = self.n-1\n",
        "        # t=np.zeros((m,e))\n",
        "        # for i in range(m):\n",
        "        #   for j in range(e):\n",
        "        #     if cord[i][j] >= 1:\n",
        "        #       t[i][j]= 1\n",
        "        # self.alpha = t\n",
        "        #self.grid = np.zeros((self.m,self.n))\n",
        "       # self.addMagicSquares(self.magicSquares)\n",
        "        return self.agentPosition\n",
        "\n",
        "    def render(self):\n",
        "        print('------------------------------------------')\n",
        "        for row in self.alpha:\n",
        "            for col in row:\n",
        "                print(col,\"\\t\")\n",
        "            print('\\n')\n",
        "        print('------------------------------------------')\n",
        "\n",
        "    def actionSpaceSample(self):\n",
        "        return np.random.choice(self.possibleActions)\n"
      ]
    },
    {
      "cell_type": "code",
      "execution_count": 3,
      "metadata": {
        "id": "BAS_iQW8i_mP"
      },
      "outputs": [],
      "source": [
        "def maxAction(Q, state, actions):\n",
        "    values = np.array([Q[state,a] for a in actions])\n",
        "    action = np.argmax(values)\n",
        "    return actions[action]"
      ]
    },
    {
      "cell_type": "code",
      "execution_count": 4,
      "metadata": {
        "colab": {
          "base_uri": "https://localhost:8080/"
        },
        "id": "b2Mk6Wb7YJMe",
        "outputId": "c341e0f6-9c63-4384-deae-8a78286152d5"
      },
      "outputs": [
        {
          "name": "stdout",
          "output_type": "stream",
          "text": [
            "-9223372036854775808\n"
          ]
        }
      ],
      "source": [
        "import sys\n",
        "min_int = -sys.maxsize - 1\n",
        "print(min_int)"
      ]
    },
    {
      "cell_type": "code",
      "execution_count": 5,
      "metadata": {
        "colab": {
          "base_uri": "https://localhost:8080/"
        },
        "collapsed": true,
        "id": "SUyamgLCjAQN",
        "outputId": "05411c4f-8382-417b-a736-f44d466c5dfd"
      },
      "outputs": [
        {
          "name": "stdout",
          "output_type": "stream",
          "text": [
            "starting game  0\n",
            "0 : 494480000.0\n",
            "1 : 495179861.9841653\n",
            "2 : 495411482.0201063\n",
            "3 : 495439622.6974348\n",
            "4 : 495456600.662224\n",
            "5 : 495116860.9429272\n",
            "6 : 495160254.9413395\n",
            "7 : 495463340.49664664\n",
            "8 : 495468506.1684259\n",
            "9 : 495474901.25125736\n",
            "10 : 495476818.9645972\n",
            "11 : 495478456.74601614\n",
            "12 : 495479078.273415\n",
            "13 : 495479478.5195382\n",
            "14 : 495479739.8015901\n",
            "15 : 495479827.483096\n",
            "16 : 495479860.479862\n",
            "17 : 495479942.43318844\n",
            "18 : 495479955.61845976\n",
            "19 : 495479964.87952167\n",
            "20 : 495479994.1541797\n",
            "21 : 495479997.8196502\n",
            "22 : 495479999.6964161\n",
            "23 : 495479999.96522164\n",
            "24 : 495479999.9784428\n",
            "25 : 495479999.9902278\n",
            "26 : 495479999.9914485\n",
            "27 : 495479999.99510133\n",
            "28 : 495479999.99885535\n",
            "29 : 495479999.99974555\n",
            "30 : 495479999.99991715\n",
            "31 : 495479999.9999761\n",
            "32 : 495479999.9999876\n",
            "33 : 495479999.99999154\n",
            "34 : 495479999.99999726\n",
            "35 : 495479999.99999774\n",
            "36 : 495479999.9999995\n",
            "37 : 495479999.99999976\n",
            "38 : 495479999.9999999\n",
            "39 : 495479999.99999994\n",
            "40 : 495480000.0\n",
            "41 : 495480000.0\n",
            "42 : 495480000.0\n",
            "43 : 495480000.0\n",
            "44 : 495480000.0\n",
            "45 : 495480000.0\n",
            "46 : 495480000.0\n",
            "47 : 495480000.0\n",
            "48 : 495480000.0\n",
            "49 : 495480000.0\n",
            "50 : 495480000.0\n",
            "51 : 495480000.0\n",
            "52 : 495480000.0\n",
            "53 : 495480000.0\n",
            "54 : 495480000.0\n",
            "55 : 495480000.0\n",
            "56 : 495480000.0\n",
            "57 : 495480000.0\n",
            "58 : 495480000.0\n",
            "59 : 495480000.0\n",
            "60 : 495480000.0\n",
            "61 : 495480000.0\n",
            "62 : 495480000.0\n",
            "63 : 495480000.0\n",
            "64 : 495480000.0\n",
            "65 : 495480000.0\n",
            "66 : 495480000.0\n",
            "67 : 495480000.0\n",
            "68 : 495480000.0\n",
            "69 : 495480000.0\n",
            "70 : 495480000.0\n",
            "71 : 495480000.0\n",
            "72 : 495480000.0\n",
            "73 : 495480000.0\n",
            "74 : 495480000.0\n",
            "75 : 495480000.0\n",
            "76 : 495480000.0\n",
            "77 : 495480000.0\n",
            "78 : 495480000.0\n",
            "79 : 495480000.0\n",
            "80 : 495480000.0\n",
            "81 : 495480000.0\n",
            "82 : 495480000.0\n",
            "83 : 495480000.0\n",
            "84 : 495480000.0\n",
            "85 : 495480000.0\n",
            "86 : 495480000.0\n",
            "87 : 495480000.0\n",
            "88 : 495480000.0\n",
            "89 : 495480000.0\n",
            "90 : 495480000.0\n",
            "91 : 495480000.0\n",
            "92 : 495480000.0\n",
            "93 : 495480000.0\n",
            "94 : 495480000.0\n",
            "95 : 495480000.0\n",
            "96 : 495480000.0\n",
            "97 : 495480000.0\n",
            "98 : 495480000.0\n",
            "99 : 495480000.0\n"
          ]
        }
      ],
      "source": [
        "if __name__ == '__main__':\n",
        "    # map magic squares to their connecting square\n",
        "\n",
        "    #environment details\n",
        "    m=4\n",
        "    e=3\n",
        "    n=7\n",
        "    cord = [[4,0,0],[5,2,1],[6,3,0],[7,0,0]]\n",
        "    st_cost = [[5,6,4,8],[0,10,12,0],[0,9,0,0]]\n",
        "    tr_cost = [[4,3,5,2],[0,5,6,0],[0,0,0,0]]\n",
        "    stock = [[1000,2000,1500,3000],[0,8000,7000,0],[0,11000,0,0]]\n",
        "    lead_time = [[10,12,9,14],[0,13,18,0],[0,0,0,0]]\n",
        "    t_cy = 30\n",
        "    #setup\n",
        "    env = GridWorld(m,e,n,cord,st_cost,stock,tr_cost,lead_time,t_cy)\n",
        "\n",
        "    # model hyperparameters\n",
        "    ALPHA = 0.1\n",
        "    GAMMA = 1.0\n",
        "    EPS = 1.0\n",
        "\n",
        "    Q = {}\n",
        "    for state in env.stateSpacePlus:\n",
        "        for action in env.possibleActions:\n",
        "            Q[state, action] = 0\n",
        "\n",
        "    numGames = 100\n",
        "    totalRewards = np.zeros(numGames)\n",
        "    for i in range(numGames):\n",
        "        if i % 5000 == 0:\n",
        "            print('starting game ', i)\n",
        "        done = False\n",
        "        epRewards = 0\n",
        "        observation = env.reset()\n",
        "        while not done:\n",
        "            rand = np.random.random()\n",
        "            action = maxAction(Q,observation, env.possibleActions) if rand < (1-EPS) \\\n",
        "                                                    else env.actionSpaceSample()\n",
        "            #print(i,\":\",action)\n",
        "            observation_, reward, done, info = env.step(action)\n",
        "            epRewards += reward\n",
        "\n",
        "            action_ = maxAction(Q, observation_, env.possibleActions)\n",
        "            Q[observation,action] = Q[observation,action] + ALPHA*(reward + \\\n",
        "                        GAMMA*Q[observation_,action_] - Q[observation,action])\n",
        "            observation = observation_\n",
        "            # if(done):\n",
        "            #   env.render()\n",
        "        if EPS - 10 / numGames > 0:\n",
        "            EPS -= 10 / numGames\n",
        "        else:\n",
        "            EPS = 0\n",
        "        totalRewards[i] = epRewards\n",
        "        print(i,\":\",epRewards)\n",
        "\n"
      ]
    },
    {
      "cell_type": "code",
      "execution_count": 6,
      "metadata": {
        "colab": {
          "base_uri": "https://localhost:8080/"
        },
        "id": "tPbAJAcKRNua",
        "outputId": "dec35d5e-ae2e-4934-92a2-469abb7a7bfe"
      },
      "outputs": [
        {
          "name": "stdout",
          "output_type": "stream",
          "text": [
            "{(1, 'N'): 0, (1, 'D'): 0, (1, 'I'): 0, (2, 'N'): 9760000.0, (2, 'D'): 967176768.501004, (2, 'I'): 13860961.767932026, (3, 'N'): 11768913.440042717, (3, 'D'): 9703000.0, (3, 'I'): 965606917.3204663, (4, 'N'): 966858731.5560149, (4, 'D'): 0, (4, 'I'): 11052900.0, (5, 'N'): 968268592.0388856, (5, 'D'): 10998500.0, (5, 'I'): 24694697.07377699, (6, 'N'): 22988894.200000003, (6, 'D'): 969700380.7016697, (6, 'I'): 15492355.701254744, (7, 'N'): 0, (7, 'D'): 0, (7, 'I'): 0}\n"
          ]
        }
      ],
      "source": [
        "print(Q)"
      ]
    },
    {
      "cell_type": "code",
      "execution_count": 16,
      "metadata": {
        "colab": {
          "base_uri": "https://localhost:8080/",
          "height": 445
        },
        "id": "bENzS2jQjHQW",
        "outputId": "bd6ad2c4-a345-485d-d86e-acc16c2f404e"
      },
      "outputs": [
        {
          "data": {
            "image/png": "[encoded data removed]",
            "text/plain": [
              "<Figure size 640x480 with 1 Axes>"
            ]
          },
          "metadata": {},
          "output_type": "display_data"
        }
      ],
      "source": [
        "plt.plot(totalRewards)\n",
        "plt.show()"
      ]
    },
    {
      "cell_type": "code",
      "execution_count": 8,
      "metadata": {
        "colab": {
          "base_uri": "https://localhost:8080/"
        },
        "id": "V2M0DA1ZTQyz",
        "outputId": "0135f251-1728-47fb-86e3-22f119cb3b58"
      },
      "outputs": [
        {
          "name": "stdout",
          "output_type": "stream",
          "text": [
            "[[1.00000000e+00 0.00000000e+00 0.00000000e+00]\n",
            " [4.91594015e-01 3.58567266e-36 1.00000000e+00]\n",
            " [5.94873170e-49 1.00000000e+00 0.00000000e+00]\n",
            " [1.00000000e+00 0.00000000e+00 0.00000000e+00]]\n"
          ]
        }
      ],
      "source": [
        "print(env.alpha)"
      ]
    },
    {
      "cell_type": "code",
      "execution_count": 9,
      "metadata": {
        "colab": {
          "base_uri": "https://localhost:8080/"
        },
        "id": "8wR168FrNp3V",
        "outputId": "36ef6431-42dd-48e0-8ce3-789d5fbd6527"
      },
      "outputs": [
        {
          "name": "stdout",
          "output_type": "stream",
          "text": [
            "(3, 2)\n",
            "[[-0.4455203534518559, 0.7601407292178166], [-0.9127069857209742, -0.09815867125237077], [0.023185252153032687, 0.645045106808247]]\n"
          ]
        }
      ],
      "source": [
        "statespace=[]\n",
        "for i in range(3):\n",
        "  t = [np.random.uniform(-1, 1), np.random.uniform(-1, 1)]\n",
        "  statespace.append(t)\n",
        "#statesspace = np.reshape(statespace, (2,150))\n",
        "print(np.shape(statespace))\n",
        "print(statespace)"
      ]
    },
    {
      "cell_type": "code",
      "execution_count": 10,
      "metadata": {
        "id": "8SqmZzjDbE8P"
      },
      "outputs": [],
      "source": [
        "cord = [[4,0,0],[5,2,1],[6,3,0],[7,0,0]]\n",
        "t=np.zeros((4,3))\n",
        "for i in range(4):\n",
        "  for j in range(3):\n",
        "    if cord[i][j] >= 1:\n",
        "      t[i][j]= 1\n",
        "result = []\n",
        "result.append(t)\n",
        "result.append(t)"
      ]
    },
    {
      "cell_type": "code",
      "execution_count": 11,
      "metadata": {
        "colab": {
          "base_uri": "https://localhost:8080/"
        },
        "id": "Tfx5i0-Nb2rf",
        "outputId": "3bf6fe41-dacf-441b-a66d-a7dfdd8ef0fc"
      },
      "outputs": [
        {
          "name": "stdout",
          "output_type": "stream",
          "text": [
            "[array([[1., 0., 0.],\n",
            "       [1., 1., 1.],\n",
            "       [1., 1., 0.],\n",
            "       [1., 0., 0.]]), array([[1., 0., 0.],\n",
            "       [1., 1., 1.],\n",
            "       [1., 1., 0.],\n",
            "       [1., 0., 0.]])]\n"
          ]
        }
      ],
      "source": [
        "print(result)"
      ]
    },
    {
      "cell_type": "code",
      "execution_count": 12,
      "metadata": {
        "id": "i0z0IPHxIo-1"
      },
      "outputs": [],
      "source": [
        "stateSpace = [(i+1) for i in range(5)]\n",
        "del stateSpace[0]\n",
        "stateSpacePlus = [(i+1) for i in range(5)]"
      ]
    },
    {
      "cell_type": "code",
      "execution_count": 13,
      "metadata": {
        "colab": {
          "base_uri": "https://localhost:8080/"
        },
        "id": "TqKeX2xXI7lD",
        "outputId": "2ee3765d-ee3d-4269-de5f-2e05d9d198cb"
      },
      "outputs": [
        {
          "name": "stdout",
          "output_type": "stream",
          "text": [
            "[1, 2, 3, 4, 5]\n"
          ]
        }
      ],
      "source": [
        "print(stateSpacePlus)"
      ]
    }
  ],
  "metadata": {
    "colab": {
      "provenance": []
    },
    "kernelspec": {
      "display_name": "Python 3",
      "name": "python3"
    },
    "language_info": {
      "codemirror_mode": {
        "name": "ipython",
        "version": 3
      },
      "file_extension": ".py",
      "mimetype": "text/x-python",
      "name": "python",
      "nbconvert_exporter": "python",
      "pygments_lexer": "ipython3",
      "version": "3.11.9"
    }
  },
  "nbformat": 4,
  "nbformat_minor": 0
}
